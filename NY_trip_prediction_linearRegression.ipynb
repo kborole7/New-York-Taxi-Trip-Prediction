{
 "cells": [
  {
   "cell_type": "markdown",
   "metadata": {},
   "source": [
    "New York Taxi Trip Predicition"
   ]
  },
  {
   "cell_type": "markdown",
   "metadata": {},
   "source": [
    "The data was originally published by the NYC Taxi and Limousine Commission (TLC)."
   ]
  },
  {
   "cell_type": "markdown",
   "metadata": {},
   "source": [
    "File description\n",
    "\n",
    "train.csv - the training set (contains 1458644 trip records)\n",
    "test.csv - the testing set (contains 625134 trip records)\n",
    "\n",
    "\n",
    "Data fields\n",
    "\n",
    "id - a unique identifier for each trip\n",
    "vendor_id - a code indicating the provider associated with the trip record\n",
    "pickup_datetime - date and time when the meter was engaged\n",
    "dropoff_datetime - date and time when the meter was disengaged\n",
    "passenger_count - the number of passengers in the vehicle (driver entered value)\n",
    "pickup_longitude - the longitude where the meter was engaged\n",
    "pickup_latitude - the latitude where the meter was engaged\n",
    "dropoff_longitude - the longitude where the meter was disengaged\n",
    "dropoff_latitude - the latitude where the meter was disengaged\n",
    "store_and_fwd_flag - This flag indicates whether the trip record was held in vehicle memory before sending to the vendor because the vehicle did not have a connection to the server - Y=store and forward; N=not a store and forward trip\n",
    "trip_duration - duration of the trip in seconds"
   ]
  },
  {
   "cell_type": "code",
   "execution_count": null,
   "metadata": {
    "colab": {},
    "colab_type": "code",
    "collapsed": true,
    "id": "imiY_Mj4bIxi"
   },
   "outputs": [],
   "source": [
    "import pandas as pd\n",
    "import numpy as np\n",
    "import matplotlib.pyplot as plt\n",
    "from datetime import datetime\n",
    "import seaborn as sns\n",
    "%matplotlib inline"
   ]
  },
  {
   "cell_type": "code",
   "execution_count": null,
   "metadata": {
    "colab": {},
    "colab_type": "code",
    "collapsed": true,
    "id": "m4heCN42a6FU"
   },
   "outputs": [],
   "source": [
    "df_train=pd.read_csv('train.csv')\n",
    "df_test=pd.read_csv('test.csv')"
   ]
  },
  {
   "cell_type": "code",
   "execution_count": null,
   "metadata": {
    "colab": {
     "base_uri": "https://localhost:8080/",
     "height": 206
    },
    "colab_type": "code",
    "collapsed": true,
    "id": "53l7t1h0a7gt",
    "outputId": "4425136f-d655-4de6-f9e9-5e515f7f98ab"
   },
   "outputs": [],
   "source": [
    "df_test.head()"
   ]
  },
  {
   "cell_type": "markdown",
   "metadata": {},
   "source": [
    "Creating a function to convert the lattitude and longitude of pickup and drop off locations into distance."
   ]
  },
  {
   "cell_type": "code",
   "execution_count": null,
   "metadata": {
    "colab": {},
    "colab_type": "code",
    "collapsed": true,
    "id": "llBoF6F_bQi1"
   },
   "outputs": [],
   "source": [
    "def haversine(lon1, lat1, lon2, lat2):\n",
    "\n",
    "    lon1, lat1, lon2, lat2 = map(np.radians, [lon1, lat1, lon2, lat2])\n",
    "\n",
    "    dlon = lon2 - lon1\n",
    "    dlat = lat2 - lat1\n",
    "\n",
    "    a = np.sin(dlat/2.0)**2 + np.cos(lat1) * np.cos(lat2) * np.sin(dlon/2.0)**2\n",
    "\n",
    "    c = 2 * np.arcsin(np.sqrt(a))\n",
    "    km = 6367 * c\n",
    "    miles = km *  0.621371\n",
    "    return miles"
   ]
  },
  {
   "cell_type": "code",
   "execution_count": null,
   "metadata": {
    "colab": {},
    "colab_type": "code",
    "collapsed": true,
    "id": "EJZYQuFEqAOc"
   },
   "outputs": [],
   "source": [
    "df_train['distance'] = haversine(df_train.pickup_longitude, df_train.pickup_latitude,\n",
    "                                           df_train.dropoff_longitude, df_train.dropoff_latitude)"
   ]
  },
  {
   "cell_type": "code",
   "execution_count": null,
   "metadata": {
    "colab": {
     "base_uri": "https://localhost:8080/",
     "height": 313
    },
    "colab_type": "code",
    "collapsed": true,
    "id": "Z5Eqj5YxqC0L",
    "outputId": "3c48773f-72e9-4db0-ff20-8b30a4d3309c"
   },
   "outputs": [],
   "source": [
    "df_train.head()"
   ]
  },
  {
   "cell_type": "code",
   "execution_count": null,
   "metadata": {
    "colab": {
     "base_uri": "https://localhost:8080/",
     "height": 614
    },
    "colab_type": "code",
    "collapsed": true,
    "id": "kN7E7XP3qEjZ",
    "outputId": "ed34b550-857c-4c6f-8feb-141107fe0ceb"
   },
   "outputs": [],
   "source": [
    "fig, ax = plt.subplots(ncols=1, nrows=1,figsize=(12,10))\n",
    "plt.ylim(40.6, 40.9)\n",
    "plt.xlim(-74.1,-73.7)\n",
    "ax.scatter(df_train['pickup_longitude'],df_train['pickup_latitude'], s=0.01, alpha=1)"
   ]
  },
  {
   "cell_type": "code",
   "execution_count": null,
   "metadata": {
    "colab": {
     "base_uri": "https://localhost:8080/",
     "height": 206
    },
    "colab_type": "code",
    "collapsed": true,
    "id": "37AXdEvhqGfE",
    "outputId": "856f344a-dde5-4ab0-c6c9-2f611a68a13b"
   },
   "outputs": [],
   "source": [
    "df_test.head()"
   ]
  },
  {
   "cell_type": "code",
   "execution_count": null,
   "metadata": {
    "colab": {},
    "colab_type": "code",
    "collapsed": true,
    "id": "_uWh0CtjqI4J"
   },
   "outputs": [],
   "source": [
    "df_test['distance'] = haversine(df_test.pickup_longitude, df_test.pickup_latitude,\n",
    "                                           df_test.dropoff_longitude, df_test.dropoff_latitude)"
   ]
  },
  {
   "cell_type": "code",
   "execution_count": null,
   "metadata": {
    "colab": {},
    "colab_type": "code",
    "collapsed": true,
    "id": "eMDEBT4QqKgs"
   },
   "outputs": [],
   "source": [
    "flag=pd.get_dummies(df_train['store_and_fwd_flag'],drop_first=True)"
   ]
  },
  {
   "cell_type": "code",
   "execution_count": null,
   "metadata": {
    "colab": {},
    "colab_type": "code",
    "collapsed": true,
    "id": "LhkQ1VxmqNaJ"
   },
   "outputs": [],
   "source": [
    "df_train=pd.concat([df_train,flag],axis=1)"
   ]
  },
  {
   "cell_type": "code",
   "execution_count": null,
   "metadata": {
    "colab": {},
    "colab_type": "code",
    "collapsed": true,
    "id": "kaGjEKDfqPv-"
   },
   "outputs": [],
   "source": [
    "df_train.drop(['store_and_fwd_flag'] , axis=1,inplace =True)"
   ]
  },
  {
   "cell_type": "code",
   "execution_count": null,
   "metadata": {
    "colab": {},
    "colab_type": "code",
    "collapsed": true,
    "id": "OBI45trAqRak"
   },
   "outputs": [],
   "source": [
    "flagtest=pd.get_dummies(df_test['store_and_fwd_flag'],drop_first=True)"
   ]
  },
  {
   "cell_type": "code",
   "execution_count": null,
   "metadata": {
    "colab": {},
    "colab_type": "code",
    "collapsed": true,
    "id": "j0IOiTuuqS5Q"
   },
   "outputs": [],
   "source": [
    "df_test=pd.concat([df_test,flagtest],axis=1)"
   ]
  },
  {
   "cell_type": "code",
   "execution_count": null,
   "metadata": {
    "colab": {},
    "colab_type": "code",
    "collapsed": true,
    "id": "5CuEOf7cqUVM"
   },
   "outputs": [],
   "source": [
    "df_test.drop(['store_and_fwd_flag'] , axis=1,inplace =True)"
   ]
  },
  {
   "cell_type": "code",
   "execution_count": null,
   "metadata": {
    "colab": {},
    "colab_type": "code",
    "collapsed": true,
    "id": "9iVxg8XiqVo1"
   },
   "outputs": [],
   "source": [
    "df_train['pickup_datetime'] = pd.to_datetime(df_train['pickup_datetime'] )"
   ]
  },
  {
   "cell_type": "code",
   "execution_count": null,
   "metadata": {
    "colab": {},
    "colab_type": "code",
    "collapsed": true,
    "id": "tYNyaj-nqXIa"
   },
   "outputs": [],
   "source": [
    "df_test['pickup_datetime'] = pd.to_datetime(df_test['pickup_datetime'])"
   ]
  },
  {
   "cell_type": "code",
   "execution_count": null,
   "metadata": {
    "colab": {},
    "colab_type": "code",
    "collapsed": true,
    "id": "OFN2NbJKQDCB"
   },
   "outputs": [],
   "source": [
    "df_train['pickup_hour'] = df_train.pickup_datetime.dt.hour\n",
    "df_train['day'] = df_train.pickup_datetime.dt.dayofyear\n",
    "df_train['weekday'] = df_train.pickup_datetime.dt.dayofweek\n",
    "df_train['month'] = df_train.pickup_datetime.dt.month"
   ]
  },
  {
   "cell_type": "code",
   "execution_count": null,
   "metadata": {
    "colab": {},
    "colab_type": "code",
    "collapsed": true,
    "id": "dFT7oJm9RRKk"
   },
   "outputs": [],
   "source": [
    "df_train['date']=pd.to_datetime(df_train.pickup_datetime.dt.date,format='%Y-%m-%d')"
   ]
  },
  {
   "cell_type": "code",
   "execution_count": null,
   "metadata": {
    "colab": {
     "base_uri": "https://localhost:8080/",
     "height": 313
    },
    "colab_type": "code",
    "collapsed": true,
    "id": "uIy-XRTLQ1WJ",
    "outputId": "7afbe7e9-d25f-4f94-9d96-4df635f04eae"
   },
   "outputs": [],
   "source": [
    "df_train.head()"
   ]
  },
  {
   "cell_type": "code",
   "execution_count": null,
   "metadata": {
    "colab": {},
    "colab_type": "code",
    "collapsed": true,
    "id": "t-Ec2wVhTDUB"
   },
   "outputs": [],
   "source": [
    "df_train['date'] = pd.to_datetime(df_train['date'], format = \"%Y-%m-%d\")"
   ]
  },
  {
   "cell_type": "code",
   "execution_count": null,
   "metadata": {
    "colab": {
     "base_uri": "https://localhost:8080/",
     "height": 35
    },
    "colab_type": "code",
    "collapsed": true,
    "id": "q7JAHw8xSM31",
    "outputId": "6ac38815-6429-4edc-da17-a508b736e37d"
   },
   "outputs": [],
   "source": [
    "type(df_train['date'][0])"
   ]
  },
  {
   "cell_type": "code",
   "execution_count": null,
   "metadata": {
    "colab": {},
    "colab_type": "code",
    "collapsed": true,
    "id": "DY1MBvA3RFYt"
   },
   "outputs": [],
   "source": [
    "from sklearn.linear_model import LinearRegression"
   ]
  },
  {
   "cell_type": "code",
   "execution_count": null,
   "metadata": {
    "colab": {},
    "colab_type": "code",
    "collapsed": true,
    "id": "9iwN4XNxR8B-"
   },
   "outputs": [],
   "source": [
    "lm=LinearRegression()"
   ]
  },
  {
   "cell_type": "code",
   "execution_count": null,
   "metadata": {
    "colab": {},
    "colab_type": "code",
    "collapsed": true,
    "id": "bjKqU74pR-L0"
   },
   "outputs": [],
   "source": [
    "X_train=df_train.drop (['trip_duration','dropoff_datetime','pickup_datetime','date'] , axis=1)\n",
    "y_train=df_train['trip_duration']\n",
    "X_test=df_test.drop(['pickup_datetime'],axis=1)\n",
    "\n"
   ]
  },
  {
   "cell_type": "code",
   "execution_count": null,
   "metadata": {
    "colab": {
     "base_uri": "https://localhost:8080/",
     "height": 35
    },
    "colab_type": "code",
    "collapsed": true,
    "id": "61Y9GrBCSCOp",
    "outputId": "9f8da6b3-2dad-4fd1-ea22-cb35305d61cc"
   },
   "outputs": [],
   "source": [
    "lm.fit(X_train,y_train)"
   ]
  },
  {
   "cell_type": "code",
   "execution_count": null,
   "metadata": {
    "colab": {},
    "colab_type": "code",
    "collapsed": true,
    "id": "b7LpwbNOSEAX"
   },
   "outputs": [],
   "source": [
    "df_train['id']=df_train['id'].str[2:]"
   ]
  },
  {
   "cell_type": "code",
   "execution_count": null,
   "metadata": {
    "colab": {},
    "colab_type": "code",
    "collapsed": true,
    "id": "3awJKldfYhIj"
   },
   "outputs": [],
   "source": [
    "df_test['id']=df_test['id'].str[2:]"
   ]
  },
  {
   "cell_type": "code",
   "execution_count": null,
   "metadata": {
    "colab": {
     "base_uri": "https://localhost:8080/",
     "height": 313
    },
    "colab_type": "code",
    "collapsed": true,
    "id": "dQaH8Ah4WxYz",
    "outputId": "e7384a37-9e25-47b4-f7a0-dc99608579cb"
   },
   "outputs": [],
   "source": [
    "df_train.head()"
   ]
  },
  {
   "cell_type": "code",
   "execution_count": null,
   "metadata": {
    "colab": {},
    "colab_type": "code",
    "collapsed": true,
    "id": "xERyQx4pZHcb"
   },
   "outputs": [],
   "source": [
    "df_test['pickup_hour'] = df_test.pickup_datetime.dt.hour\n",
    "df_test['day'] = df_test.pickup_datetime.dt.dayofyear\n",
    "df_test['weekday'] = df_test.pickup_datetime.dt.dayofweek\n",
    "df_test['month'] = df_test.pickup_datetime.dt.month"
   ]
  },
  {
   "cell_type": "code",
   "execution_count": null,
   "metadata": {
    "colab": {
     "base_uri": "https://localhost:8080/",
     "height": 206
    },
    "colab_type": "code",
    "collapsed": true,
    "id": "qLv59IdVY-f9",
    "outputId": "2b088428-aefe-4509-aabb-15327ddf4254"
   },
   "outputs": [],
   "source": [
    "df_test.head()"
   ]
  },
  {
   "cell_type": "code",
   "execution_count": null,
   "metadata": {
    "colab": {},
    "colab_type": "code",
    "collapsed": true,
    "id": "G8gt7QroXnpG"
   },
   "outputs": [],
   "source": [
    "predict_linear=lm.predict(X_test)"
   ]
  },
  {
   "cell_type": "code",
   "execution_count": null,
   "metadata": {
    "colab": {
     "base_uri": "https://localhost:8080/",
     "height": 54
    },
    "colab_type": "code",
    "collapsed": true,
    "id": "BsfD_zqVYryj",
    "outputId": "b9becde1-de71-4286-f456-5083a22de2f5"
   },
   "outputs": [],
   "source": [
    "predict_linear"
   ]
  },
  {
   "cell_type": "code",
   "execution_count": null,
   "metadata": {
    "colab": {},
    "colab_type": "code",
    "collapsed": true,
    "id": "D2MLsfBBZfam"
   },
   "outputs": [],
   "source": [
    "out=df"
   ]
  },
  {
   "cell_type": "code",
   "execution_count": null,
   "metadata": {
    "colab": {
     "base_uri": "https://localhost:8080/",
     "height": 206
    },
    "colab_type": "code",
    "collapsed": true,
    "id": "6XIzB0omZpxi",
    "outputId": "31e0b2f0-25ba-4d50-e08c-29e92512d7bf"
   },
   "outputs": [],
   "source": [
    "df_test.head()"
   ]
  },
  {
   "cell_type": "code",
   "execution_count": null,
   "metadata": {
    "colab": {},
    "colab_type": "code",
    "collapsed": true,
    "id": "wn2zVR6tamWt"
   },
   "outputs": [],
   "source": [
    "test=pd.read_csv('test.csv')"
   ]
  },
  {
   "cell_type": "code",
   "execution_count": null,
   "metadata": {
    "colab": {},
    "colab_type": "code",
    "collapsed": true,
    "id": "zI_sVuW2a_6R"
   },
   "outputs": [],
   "source": [
    "test['trip_duration']=predict_linear.astype(int)\n",
    "\n",
    "output= test[['id','trip_duration']]"
   ]
  },
  {
   "cell_type": "code",
   "execution_count": null,
   "metadata": {
    "colab": {
     "base_uri": "https://localhost:8080/",
     "height": 35
    },
    "colab_type": "code",
    "collapsed": true,
    "id": "sQb3spufbkNE",
    "outputId": "8eaaf6d7-f577-45f5-a937-07fc6dfbfa2d"
   },
   "outputs": [],
   "source": [
    "output.isnull().values.any()"
   ]
  },
  {
   "cell_type": "code",
   "execution_count": null,
   "metadata": {
    "colab": {},
    "colab_type": "code",
    "collapsed": true,
    "id": "Ttv0ALl5bp7z"
   },
   "outputs": [],
   "source": [
    "output.to_csv('prediction_linearRegression',index=False)"
   ]
  },
  {
   "cell_type": "code",
   "execution_count": null,
   "metadata": {
    "colab": {
     "base_uri": "https://localhost:8080/",
     "height": 35
    },
    "colab_type": "code",
    "collapsed": true,
    "id": "3hymq0mebxo_",
    "outputId": "c691b97f-6ccb-4850-9a22-19a4c2e5ab20"
   },
   "outputs": [],
   "source": []
  },
  {
   "cell_type": "code",
   "execution_count": null,
   "metadata": {
    "colab": {},
    "colab_type": "code",
    "collapsed": true,
    "id": "OYoJdGCycYfv"
   },
   "outputs": [],
   "source": []
  }
 ],
 "metadata": {
  "accelerator": "GPU",
  "colab": {
   "collapsed_sections": [],
   "name": "Untitled0.ipynb",
   "provenance": [],
   "version": "0.3.2"
  },
  "kernelspec": {
   "display_name": "Python 3",
   "language": "python",
   "name": "python3"
  },
  "language_info": {
   "codemirror_mode": {
    "name": "ipython",
    "version": 3
   },
   "file_extension": ".py",
   "mimetype": "text/x-python",
   "name": "python",
   "nbconvert_exporter": "python",
   "pygments_lexer": "ipython3",
   "version": "3.6.5"
  }
 },
 "nbformat": 4,
 "nbformat_minor": 1
}
